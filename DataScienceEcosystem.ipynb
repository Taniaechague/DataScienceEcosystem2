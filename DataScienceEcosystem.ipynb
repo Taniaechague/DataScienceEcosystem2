{
 "cells": [
  {
   "cell_type": "markdown",
   "id": "0ae9a3c6-736f-41dc-8467-530bc0e8a8af",
   "metadata": {},
   "source": [
    "# Data Science Tools and Ecosystem"
   ]
  },
  {
   "cell_type": "markdown",
   "id": "9289f231-2ae5-451a-8510-76f0c9c88c8a",
   "metadata": {},
   "source": [
    "_In this notebook, Data Science Tools and Ecosystem are summarized._"
   ]
  },
  {
   "cell_type": "markdown",
   "id": "4b04dedc-2948-4189-b725-0534ba6be784",
   "metadata": {},
   "source": [
    "**Objectives:**\n",
    "+ Popular languages for DS\n",
    "+ Popular libraries for DS\n",
    "+ Popular tools for DS"
   ]
  },
  {
   "cell_type": "markdown",
   "id": "dac7304f-0614-479d-8660-1ccbeef59043",
   "metadata": {},
   "source": [
    "**Some of the popular languages that Data Scientists use are:**\n",
    "\n",
    "    1. SQL\n",
    "    2. R\n",
    "    3. Python"
   ]
  },
  {
   "cell_type": "markdown",
   "id": "7a95c881-d9e4-4745-9ae8-a5cc6da4f1db",
   "metadata": {},
   "source": [
    "**Some of the commonly used libraries used by Data Scientists include:**\n",
    "\n",
    "    1. Pandas\n",
    "    2. Numpy\n",
    "    3. Matplotlib\n",
    "    4. Scikit-learn"
   ]
  },
  {
   "cell_type": "markdown",
   "id": "5180d0c8-eccd-4ea2-b277-48f800183c34",
   "metadata": {},
   "source": [
    "|Data Science Tools|\n",
    "|------------------|\n",
    "| Apache Airflow|\n",
    "| Apache Superset|\n",
    "| Seldon|"
   ]
  },
  {
   "cell_type": "markdown",
   "id": "84388ddd-57d4-4353-9a9d-29d93cd737b6",
   "metadata": {},
   "source": [
    "### Below are a few examples of evaluating arithmetic expressions in Python"
   ]
  },
  {
   "cell_type": "code",
   "execution_count": 1,
   "id": "88fc1665-1b61-4747-9fa0-212fc83fb250",
   "metadata": {
    "tags": []
   },
   "outputs": [
    {
     "data": {
      "text/plain": [
       "2"
      ]
     },
     "execution_count": 1,
     "metadata": {},
     "output_type": "execute_result"
    }
   ],
   "source": [
    "1+1"
   ]
  },
  {
   "cell_type": "code",
   "execution_count": 2,
   "id": "9c074531-2aca-4e87-9c87-9e0d8c8e5f8a",
   "metadata": {
    "tags": []
   },
   "outputs": [
    {
     "data": {
      "text/plain": [
       "40"
      ]
     },
     "execution_count": 2,
     "metadata": {},
     "output_type": "execute_result"
    }
   ],
   "source": [
    "2*5+3*10"
   ]
  },
  {
   "cell_type": "code",
   "execution_count": 3,
   "id": "30985bac-1686-4986-a91d-7fe2bb3581d6",
   "metadata": {
    "tags": []
   },
   "outputs": [
    {
     "data": {
      "text/plain": [
       "2.0"
      ]
     },
     "execution_count": 3,
     "metadata": {},
     "output_type": "execute_result"
    }
   ],
   "source": [
    "4/2"
   ]
  },
  {
   "cell_type": "code",
   "execution_count": 4,
   "id": "12752f31-4b80-4c76-9595-bbdb2225b476",
   "metadata": {
    "tags": []
   },
   "outputs": [
    {
     "data": {
      "text/plain": [
       "17"
      ]
     },
     "execution_count": 4,
     "metadata": {},
     "output_type": "execute_result"
    }
   ],
   "source": [
    "#This a simple arithmetic expression to mutiply then add integers\n",
    "(3*4)+5"
   ]
  },
  {
   "cell_type": "code",
   "execution_count": 5,
   "id": "501d4db9-23bb-4418-b059-0996bdc83d5a",
   "metadata": {
    "tags": []
   },
   "outputs": [
    {
     "data": {
      "text/plain": [
       "3.3333333333333335"
      ]
     },
     "execution_count": 5,
     "metadata": {},
     "output_type": "execute_result"
    }
   ],
   "source": [
    "#This will convert 200 minutes to hours by diving by 60\n",
    "200/60"
   ]
  },
  {
   "cell_type": "markdown",
   "id": "3afe062e-9894-4c5e-8d2e-8027d8388ee1",
   "metadata": {},
   "source": [
    "## Autor: \n",
    "Tania"
   ]
  }
 ],
 "metadata": {
  "kernelspec": {
   "display_name": "Python 3 (ipykernel)",
   "language": "python",
   "name": "python3"
  },
  "language_info": {
   "codemirror_mode": {
    "name": "ipython",
    "version": 3
   },
   "file_extension": ".py",
   "mimetype": "text/x-python",
   "name": "python",
   "nbconvert_exporter": "python",
   "pygments_lexer": "ipython3",
   "version": "3.11.5"
  }
 },
 "nbformat": 4,
 "nbformat_minor": 5
}
